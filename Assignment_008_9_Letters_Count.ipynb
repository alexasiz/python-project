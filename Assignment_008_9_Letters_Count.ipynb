{
  "nbformat": 4,
  "nbformat_minor": 0,
  "metadata": {
    "colab": {
      "name": "Assignment-008-9 Letters Count.ipynb",
      "provenance": [],
      "collapsed_sections": [],
      "authorship_tag": "ABX9TyOTc2D9Czp4c2S9dtCmpVaw",
      "include_colab_link": true
    },
    "kernelspec": {
      "name": "python3",
      "display_name": "Python 3"
    },
    "language_info": {
      "name": "python"
    }
  },
  "cells": [
    {
      "cell_type": "markdown",
      "metadata": {
        "id": "view-in-github",
        "colab_type": "text"
      },
      "source": [
        "<a href=\"https://colab.research.google.com/github/alexasiz/python-project/blob/main/Assignment_008_9_Letters_Count.ipynb\" target=\"_parent\"><img src=\"https://colab.research.google.com/assets/colab-badge.svg\" alt=\"Open In Colab\"/></a>"
      ]
    },
    {
      "cell_type": "code",
      "metadata": {
        "id": "fxZcxnXENjwJ"
      },
      "source": [
        ""
      ],
      "execution_count": null,
      "outputs": []
    },
    {
      "cell_type": "markdown",
      "metadata": {
        "id": "ZoOw4z_INkSz"
      },
      "source": [
        "# Assignment-008/9 (Letters Count)\n",
        "💡Objective:\n",
        "To improve your control flow statement skill and dictionary knowledge.\n",
        "Write your Python codes on any IDE and push it up to your GitHub repository, then submit your GitHub page address link in addition to your codes (answer) as a plain text. \n",
        "Task:\n",
        "\n",
        "Count the number of each letter in a sentence.\n",
        "The department you work for undertook a project construction that makes word / text analysis. You are asked to calculate the number of letters or any chars in the sentences entered under this project.\n",
        "Write a Python program that;\n",
        "takes a sentence from the user,\n",
        "counts the number of each letter of the sentence,\n",
        "collects the letters/chars as a key and the counted numbers as a value in a dictionary.\n",
        "\n",
        "Examples\n",
        "Sample inputs\tOutputs\n",
        "hippo runs to us!\t\n",
        "{'s': 2, 'r': 1, 't': 1, 'h': 1, 'n': 1, \n",
        "'i': 1, 'u': 2, 'o': 2, 'p': 2, ' ': 3, '!': 1}"
      ]
    },
    {
      "cell_type": "code",
      "metadata": {
        "colab": {
          "base_uri": "https://localhost:8080/"
        },
        "id": "pk9Yh_wfNmL8",
        "outputId": "8a8cc701-1a30-40a4-d6a6-e8f34160b709"
      },
      "source": [
        "def karakter_sayisi(sentence):\n",
        "    dict = {}\n",
        "    for n in sentence:\n",
        "        keys = dict.keys()\n",
        "        if n in keys:\n",
        "            dict[n] += 1\n",
        "        else:\n",
        "            dict[n] = 1\n",
        "    return dict\n",
        "print(karakter_sayisi('hippo runs to us!'))"
      ],
      "execution_count": 1,
      "outputs": [
        {
          "output_type": "stream",
          "text": [
            "{'h': 1, 'i': 1, 'p': 2, 'o': 2, ' ': 3, 'r': 1, 'u': 2, 'n': 1, 's': 2, 't': 1, '!': 1}\n"
          ],
          "name": "stdout"
        }
      ]
    }
  ]
}