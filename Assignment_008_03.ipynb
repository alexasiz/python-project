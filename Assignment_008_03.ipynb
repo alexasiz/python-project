{
  "nbformat": 4,
  "nbformat_minor": 0,
  "metadata": {
    "colab": {
      "name": "Assignment-008-03.ipynb",
      "provenance": [],
      "collapsed_sections": [],
      "authorship_tag": "ABX9TyNh926tFr9ML99Oe06e6Ll0",
      "include_colab_link": true
    },
    "kernelspec": {
      "name": "python3",
      "display_name": "Python 3"
    },
    "language_info": {
      "name": "python"
    }
  },
  "cells": [
    {
      "cell_type": "markdown",
      "metadata": {
        "id": "view-in-github",
        "colab_type": "text"
      },
      "source": [
        "<a href=\"https://colab.research.google.com/github/alexasiz/python-project/blob/main/Assignment_008_03.ipynb\" target=\"_parent\"><img src=\"https://colab.research.google.com/assets/colab-badge.svg\" alt=\"Open In Colab\"/></a>"
      ]
    },
    {
      "cell_type": "code",
      "metadata": {
        "id": "dR9YO60W0nC8"
      },
      "source": [
        ""
      ],
      "execution_count": null,
      "outputs": []
    },
    {
      "cell_type": "markdown",
      "metadata": {
        "id": "DFUddfEL0uK1"
      },
      "source": [
        ""
      ]
    },
    {
      "cell_type": "markdown",
      "metadata": {
        "id": "7pyBhRHD04hz"
      },
      "source": [
        "Assignment-008/3 (Is it an Armstrong Number?)\n",
        "Assignment-008/3 (Is it an Armstrong Number?) 💡Objective: To improve your control flow statement and arithmetic operator algorithm skills. Write your Python codes on any IDE, push it up to your GitHub repository and submit your GitHub Page link address in addition to your code as a plain text.\n",
        "\n",
        "Task:\n",
        "\n",
        "Find out if a given number is an \"Armstrong Number\".\n",
        "\n",
        "An n-digit number that is the sum of the nth powers of its digits is called an n-Armstrong number. Examples : 371 = 33 + 73 + 13; 9474 = 94 + 44 + 74 + 44; 93084 = 95 + 35 + 05 + 85 + 45.\n",
        "\n",
        "Write a Python program that; takes a positive integer number from the user, checks the entered number if it is Armstrong, consider the negative, float and any entries other than numeric values then display a warning message to the user.\n",
        "\n",
        "Examples Sample inputs Outputs 407 407 is an Armstrong number 5 5 is an Armstrong number -153 It is an invalid entry. Don't use non-numeric, float, or negative values! 153.87 or 153,87 It is an invalid entry. Don't use non-numeric, float, or negative values! one It is an invalid entry. Don't use non-numeric, float, or negative values! 121 121 is not an Armstrong number\n",
        "\n",
        "Note that; this question is famous on the web, so that do it yourself to get more benefits from it. By the way, do not use try - except block."
      ]
    },
    {
      "cell_type": "code",
      "metadata": {
        "id": "4XIRI0su0vJb"
      },
      "source": [
        " while True :\n",
        "        arm_num = input(\"Enter a number( to exit enter 'q'): \")\n",
        "        if arm_num == 'q' :\n",
        "            break\n",
        "        elif not arm_num.strip().lstrip('+-').isdigit():\n",
        "             print(arm_num, \"This is not an integer number.\\n\")\n",
        "        elif int (arm_num) < 0 :\n",
        "            print(\"Please don't enter negatif number...\\n\")\n",
        "        elif int (arm_num) == 0:\n",
        "            print(\"Zero is Armstrong number. Please try again..\\n\")\n",
        "        else : \n",
        "            lenght = len(arm_num)\n",
        "            new_arm_num = 0\n",
        "            for i in range(lenght):\n",
        "                new_arm_num += new_arm_num + int(arm_num[i]) ** lenght\n",
        "            if new_arm_num == int(arm_num):\n",
        "                print(arm_num, \"is Armstrong number.\")\n",
        "            else :\n",
        "                print(arm_num, \"is not Armstrong number.\")"
      ],
      "execution_count": null,
      "outputs": []
    },
    {
      "cell_type": "code",
      "metadata": {
        "id": "O2tnJvi90vor"
      },
      "source": [
        ""
      ],
      "execution_count": null,
      "outputs": []
    },
    {
      "cell_type": "markdown",
      "metadata": {
        "id": "QCqxXkeZ0wGJ"
      },
      "source": [
        ""
      ]
    }
  ]
}