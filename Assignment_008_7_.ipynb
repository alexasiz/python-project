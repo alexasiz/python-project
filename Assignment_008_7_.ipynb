{
  "nbformat": 4,
  "nbformat_minor": 0,
  "metadata": {
    "colab": {
      "name": " Assignment-008-7 .ipynb",
      "provenance": [],
      "authorship_tag": "ABX9TyPZvApIadSJE+zJ+ZTNRmGF",
      "include_colab_link": true
    },
    "kernelspec": {
      "name": "python3",
      "display_name": "Python 3"
    },
    "language_info": {
      "name": "python"
    }
  },
  "cells": [
    {
      "cell_type": "markdown",
      "metadata": {
        "id": "view-in-github",
        "colab_type": "text"
      },
      "source": [
        "<a href=\"https://colab.research.google.com/github/alexasiz/python-project/blob/main/Assignment_008_7_.ipynb\" target=\"_parent\"><img src=\"https://colab.research.google.com/assets/colab-badge.svg\" alt=\"Open In Colab\"/></a>"
      ]
    },
    {
      "cell_type": "code",
      "metadata": {
        "id": "DGxXECWskpyW"
      },
      "source": [
        ""
      ],
      "execution_count": null,
      "outputs": []
    },
    {
      "cell_type": "markdown",
      "metadata": {
        "id": "Ga6Iqxt9ksZG"
      },
      "source": [
        "Assignment-008/7 ()\n",
        "💡Objective: To improve your control flow statement skills and to raise your awareness of some arithmetic knowledge. Write a Python code on any IDE, push it up to your GitHub repository and submit the GitHub page link address in addition to your code (answer) as a plain text.\n",
        "\n",
        "Task : Print the Fizz Buzz numbers.\n",
        "\n",
        "Fizz Buzz is a famous code challenge used in interviews to test basic programming skills. It's time to write your own implementation. Print numbers from 1 to 100 inclusively following these instructions: if a number is multiple of 3, print \"Fizz\" instead of this number, if a number is multiple of 5, print \"Buzz\" instead of this number, for numbers that are multiples of both 3 and 5, print \"FizzBuzz\", print the rest of the numbers unchanged. Output each value on a separate line."
      ]
    },
    {
      "cell_type": "code",
      "metadata": {
        "id": "hyNa0Qmnku7B"
      },
      "source": [
        "for fizzbuzz in range(1,101):\n",
        "    if fizzbuzz % 3 == 0 and fizzbuzz % 5 == 0:\n",
        "        print(\"fizzbuzz\")\n",
        "        continue\n",
        "    elif fizzbuzz % 3 == 0:\n",
        "        print(\"fizz\")\n",
        "        continue\n",
        "    elif fizzbuzz % 5 == 0:\n",
        "        print(\"buzz\")\n",
        "        continue\n",
        "    print(fizzbuzz)"
      ],
      "execution_count": null,
      "outputs": []
    }
  ]
}