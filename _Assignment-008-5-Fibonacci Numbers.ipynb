{
 "cells": [
  {
   "cell_type": "markdown",
   "metadata": {},
   "source": [
    "# Assignment-008/5 (Fibonacci Numbers)\n",
    "\n",
    "💡Objective:\n",
    "To improve your control flow statement skills and to raise your awareness of some algebraic knowledge.\n",
    "Write a Python code on any IDE, push it up to your GitHub repository and submit GitHub page address link in addition to your code (answer) as a plain text.\n",
    "\n",
    "Task : Create a list consisting of Fibonacci numbers from 1 to 55 using control flow statements.\n",
    "\n",
    "The desired output is like :\n",
    "\n",
    "fibonacci →  [1, 1, 2, 3, 5, 8, 13, 21, 34, 55]"
   ]
  },
  {
   "cell_type": "markdown",
   "metadata": {},
   "source": [
    "# 0, 1, 1, 2, 3, 5, 8, 13, 21, 34, 55, 89, 144, 233, 377, 610, 987.. diye devam eden her sayının kendisinden önceki iki ardışık sayının toplamına eşit olduğu sayı dizisine Fibonacci dizisi denmektedir. Bu dizinin terimleri ise Fibo sayısı olarak adlandırılmıştır"
   ]
  },
  {
   "cell_type": "code",
   "execution_count": 3,
   "metadata": {},
   "outputs": [
    {
     "name": "stdout",
     "output_type": "stream",
     "text": [
      "[1, 1, 2, 3, 5, 8, 13, 21, 34, 55]\n"
     ]
    }
   ],
   "source": [
    "#Task : Create a list consisting of Fibonacci numbers from 1 to 55 using control flow statements.\n",
    "\n",
    "#The desired output is like : fibonacci →  [1, 1, 2, 3, 5, 8, 13, 21, 34, 55]\n",
    "\n",
    "list = []\n",
    "x, y = 1, 1\n",
    "\n",
    "while x <= 55 :\n",
    "    list.append(x)\n",
    "    x, y = y, y + x\n",
    "print(list)"
   ]
  },
  {
   "cell_type": "code",
   "execution_count": 2,
   "metadata": {},
   "outputs": [
    {
     "name": "stdout",
     "output_type": "stream",
     "text": [
      "0 0\n",
      "1 1\n",
      "2 1\n",
      "3 2\n",
      "4 3\n",
      "5 5\n",
      "6 8\n",
      "7 13\n",
      "8 21\n",
      "9 34\n",
      "10 55\n",
      "11 89\n",
      "12 144\n",
      "13 233\n",
      "14 377\n",
      "15 610\n",
      "16 987\n",
      "17 1597\n",
      "18 2584\n",
      "19 4181\n"
     ]
    }
   ],
   "source": [
    "def rec_fib(n):\n",
    "    '''inefficient recursive function as defined, returns Fibonacci number'''\n",
    "    if n > 1:\n",
    "        return rec_fib(n-1) + rec_fib(n-2)\n",
    "    return n\n",
    "\n",
    "for i in range(20):\n",
    "    print(i, rec_fib(i))"
   ]
  },
  {
   "cell_type": "code",
   "execution_count": null,
   "metadata": {},
   "outputs": [],
   "source": [
    "\n",
    "#creating an array in the function to find the nth number in fibonacci series. [0,1,1,...]\n",
    "  \n",
    "def fibonacci (n):\n",
    "  \n",
    "   arr = [0] * (n+1)\n",
    "  \n",
    "   arr[1] = 1\n",
    "  \n",
    "   for i in range (2,n+1):\n",
    "  \n",
    "       arr[i] = arr[i-1] + arr[i-2]\n",
    "  \n",
    "   return arr[n]\n",
    "  \n",
    "#Driver Program\n",
    "  \n",
    "if __name__ == \"__main__\":\n",
    "  \n",
    "   print(fibonacci (int (input (\"Enter the term :\" ) ) ) ) #lets assume the input as 12\n",
    "  \n",
    "# This Code is contributed by Prasun Parate (prasun_parate)"
   ]
  }
 ],
 "metadata": {
  "kernelspec": {
   "display_name": "Python 3",
   "language": "python",
   "name": "python3"
  },
  "language_info": {
   "codemirror_mode": {
    "name": "ipython",
    "version": 3
   },
   "file_extension": ".py",
   "mimetype": "text/x-python",
   "name": "python",
   "nbconvert_exporter": "python",
   "pygments_lexer": "ipython3",
   "version": "3.8.5"
  }
 },
 "nbformat": 4,
 "nbformat_minor": 4
}
