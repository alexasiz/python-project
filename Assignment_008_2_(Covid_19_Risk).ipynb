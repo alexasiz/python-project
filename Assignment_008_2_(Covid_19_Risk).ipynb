{
  "nbformat": 4,
  "nbformat_minor": 0,
  "metadata": {
    "colab": {
      "name": "Assignment-008/2 (Covid-19 Risk).ipynb",
      "provenance": [],
      "collapsed_sections": [],
      "authorship_tag": "ABX9TyORVUGAA93eAAoGCfEvULSN",
      "include_colab_link": true
    },
    "kernelspec": {
      "name": "python3",
      "display_name": "Python 3"
    },
    "language_info": {
      "name": "python"
    }
  },
  "cells": [
    {
      "cell_type": "markdown",
      "metadata": {
        "id": "view-in-github",
        "colab_type": "text"
      },
      "source": [
        "<a href=\"https://colab.research.google.com/github/alexasiz/python-project/blob/main/Assignment_008_2_(Covid_19_Risk).ipynb\" target=\"_parent\"><img src=\"https://colab.research.google.com/assets/colab-badge.svg\" alt=\"Open In Colab\"/></a>"
      ]
    },
    {
      "cell_type": "code",
      "metadata": {
        "id": "4TBUk0CX_z4I"
      },
      "source": [
        ""
      ],
      "execution_count": null,
      "outputs": []
    },
    {
      "cell_type": "markdown",
      "metadata": {
        "id": "hIm2J8Qk_5zd"
      },
      "source": [
        "Assignment-008/2 (Covid-19 Risk)\n",
        "\n",
        "💡Objective:\n",
        "To improve your boolean logic and setting condition algorithm skills and to raise your awareness of coronavirus.\n",
        "Write your Python codes on any IDE, push it up to your GitHub repository and submit your GitHub Page link address in addition to your code as a plain text.\n",
        "\n",
        "Problem :\n",
        "\n",
        "Task : Estimating the risk of death from coronavirus. Write a program that;\n",
        "\n",
        "Takes \"Yes\" or \"No\" from the user as an answer to the following questions :\n",
        "\n",
        "Are you a cigarette addict older than 75 years old? Variable → age\n",
        "\n",
        "Do you have a severe chronic disease? Variable → chronic\n",
        "\n",
        "Is your immune system too weak? Variable → immune\n",
        "\n",
        "Set a logical algorithm using boolean logic operators (and/or) and use if-statements with the given variables in order to print out us a message : \"You are in risky group\"(if True ) or \"You are not in risky group\" (if False).\n",
        "age =  # can be assigned only True/False\n",
        "chronic =  # can be assigned only True/False\n",
        "immune =  # can be assigned only True/False\n",
        "risk = ?"
      ]
    },
    {
      "cell_type": "code",
      "metadata": {
        "colab": {
          "base_uri": "https://localhost:8080/"
        },
        "id": "aZUt2EyD_7Uf",
        "outputId": "00b245a9-5b6f-4cf3-f770-053a56ba7144"
      },
      "source": [
        "age = bool (input ('Are you a cigarette addict older than 75 years old?\\n\\\n",
        "Write yes for approval and only press enter for no ' ))\n",
        "chronic = bool (input('Do you have a severe chronic disease?\\n\\\n",
        "Write yes for approval and only press enter for no '))\n",
        "immune = bool (input('Is your immune system too weak?\\n\\\n",
        "Write yes for approval and only press enter for no '))\n",
        "risk = age and chronic and immune\n",
        "\n",
        "if (risk==True):\n",
        "   print(\"You are in risky group\")\n",
        "else:\n",
        "  print(\"You are not in risky group\")"
      ],
      "execution_count": 2,
      "outputs": [
        {
          "output_type": "stream",
          "text": [
            "Are you a cigarette addict older than 75 years old?\n",
            "Write yes for approval and only press enter for no yes\n",
            "Do you have a severe chronic disease?\n",
            "Write yes for approval and only press enter for no yes\n",
            "Is your immune system too weak?\n",
            "Write yes for approval and only press enter for no yes\n",
            "You are in risky group\n"
          ],
          "name": "stdout"
        }
      ]
    }
  ]
}