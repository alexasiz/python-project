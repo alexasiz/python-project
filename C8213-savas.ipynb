{
  "nbformat": 4,
  "nbformat_minor": 0,
  "metadata": {
    "colab": {
      "name": "Untitled4.ipynb",
      "provenance": [],
      "authorship_tag": "ABX9TyPBbjRwA41Db43lasIV4jbG",
      "include_colab_link": true
    },
    "kernelspec": {
      "name": "python3",
      "display_name": "Python 3"
    },
    "language_info": {
      "name": "python"
    }
  },
  "cells": [
    {
      "cell_type": "markdown",
      "metadata": {
        "id": "view-in-github",
        "colab_type": "text"
      },
      "source": [
        "<a href=\"https://colab.research.google.com/github/alexasiz/python-project/blob/main/C8213-savas.ipynb\" target=\"_parent\"><img src=\"https://colab.research.google.com/assets/colab-badge.svg\" alt=\"Open In Colab\"/></a>"
      ]
    },
    {
      "cell_type": "code",
      "metadata": {
        "id": "X_ebdyUw3p9T"
      },
      "source": [
        "#programm for reminding password\n",
        "\n",
        "name=\"savas\"\n",
        "for i in range(3):\n",
        "    nm=input(\"Enter your name: \")\n",
        "    x=3\n",
        "    if(nm==name):\n",
        "        print(\"Welcome Savas, your password is serdarkaan*\")\n",
        "        break\n",
        "    else:\n",
        "        print(\"Incorrect name try again an chances left\", x-i)\n",
        "        continue\n",
        "    print(\"\\n you can enter password\")"
      ],
      "execution_count": null,
      "outputs": []
    }
  ]
}