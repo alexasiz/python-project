{
  "nbformat": 4,
  "nbformat_minor": 0,
  "metadata": {
    "colab": {
      "name": "Assignment-008/1.ipynb",
      "provenance": [],
      "collapsed_sections": [],
      "authorship_tag": "ABX9TyMUPj+rX4mBzMOQP5maFctG",
      "include_colab_link": true
    },
    "kernelspec": {
      "name": "python3",
      "display_name": "Python 3"
    },
    "language_info": {
      "name": "python"
    }
  },
  "cells": [
    {
      "cell_type": "markdown",
      "metadata": {
        "id": "view-in-github",
        "colab_type": "text"
      },
      "source": [
        "<a href=\"https://colab.research.google.com/github/alexasiz/python-project/blob/main/Assignment_008_1.ipynb\" target=\"_parent\"><img src=\"https://colab.research.google.com/assets/colab-badge.svg\" alt=\"Open In Colab\"/></a>"
      ]
    },
    {
      "cell_type": "code",
      "metadata": {
        "id": "uGrdz9152vXq"
      },
      "source": [
        ""
      ],
      "execution_count": null,
      "outputs": []
    },
    {
      "cell_type": "markdown",
      "metadata": {
        "id": "Euwfn6kt2xxB"
      },
      "source": [
        "Assignment-008/1 (Password Reminder)\n",
        "💡Objectives:\n",
        "To improve your conditional algorithm and string operations skills.\n",
        "Write your Python codes on any IDE, push it up to your GitHub repository and submit your GitHub Page link address in addition to your code as a plain text.\n",
        "\n",
        "Task : Let's say; you left a message in the past that prints a password you need. To see the password you wrote, you need to enter your name and the program should recognize you.\n",
        "Write a program that \n",
        "\n",
        "Takes the first name from the user and compares it to yours,\n",
        "Then if the name the user entered is the same as yours, print out such as : \"Hello, Joseph! The password is : W@12\",\n",
        "If the name the user entered is not the same as yours, print out such as : \"Hello, Amina! See you later.\""
      ]
    },
    {
      "cell_type": "code",
      "metadata": {
        "id": "PfpMIAek2y0A"
      },
      "source": [
        "\n",
        "name=\"savas\"\n",
        "for i in range(3):\n",
        "    nm=input(\"Enter your name: \")\n",
        "    x=3\n",
        "    if(nm==name):\n",
        "        print(\"Welcome Savas, your password is serdarkaan*\")\n",
        "        break\n",
        "    else:\n",
        "        print(\"Incorrect name try again an chances left\", x-i)\n",
        "        continue\n",
        "    print(\"\\n you can enter password\")"
      ],
      "execution_count": null,
      "outputs": []
    }
  ]
}