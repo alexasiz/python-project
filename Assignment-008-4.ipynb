{
 "cells": [
  {
   "cell_type": "markdown",
   "metadata": {},
   "source": [
    "# Assignment-008/4 (Is it a Prime Number?) is due\n",
    "×\n",
    "Sunday, 2 May, 5:00 PM\n",
    "Course event\n",
    "\n",
    "💡Objective:\n",
    "To improve your control flow statement skills and to raise your awareness of some algebraic knowledge.\n",
    "Write your Python codes on any IDLE, push it up to your GitHub repository and submit your GitHub Page link address in addition to your code as a plain text.\n",
    "\n",
    "Task : Write a program that takes a number from the user and prints the result to check if it is a prime number.\n",
    "\n",
    "The examples of the desired output are as follows :\n",
    "\n",
    "input →  19 ⇉ output : 19 is a prime number\n",
    "input →  10 ⇉ output : 10 is not a prime number\n",
    "Note that ⚠: This question is famous on the web, so to get more benefit from this assignment, try to complete this task on your own. "
   ]
  },
  {
   "cell_type": "code",
   "execution_count": null,
   "metadata": {},
   "outputs": [],
   "source": []
  },
  {
   "cell_type": "code",
   "execution_count": 1,
   "metadata": {},
   "outputs": [
    {
     "name": "stdout",
     "output_type": "stream",
     "text": [
      "Enter a number to check if it is a prime number.55\n",
      "55 is not a prime number\n"
     ]
    }
   ],
   "source": [
    "n = int(input(\"Enter a number to check if it is a prime number.\"))\n",
    "count = 0 \n",
    "for i in range(1,n+1) :\n",
    "    if  not n % i :\n",
    "        count += 1\n",
    "if (n == 0) or (n == 1) or (count >= 3) :\n",
    "    print(n, \"is not a prime number\")\n",
    "else :\n",
    "     print(n, \"is a prime number\")"
   ]
  },
  {
   "cell_type": "code",
   "execution_count": 2,
   "metadata": {},
   "outputs": [
    {
     "name": "stdout",
     "output_type": "stream",
     "text": [
      "Enter a number to check if it is a prime number.19\n",
      "19 is a prime number\n"
     ]
    }
   ],
   "source": [
    "n = int(input(\"Enter a number to check if it is a prime number.\"))\n",
    "count = 0 \n",
    "for i in range(1,n+1) :\n",
    "    if  not n % i :\n",
    "        count += 1\n",
    "if (n == 0) or (n == 1) or (count >= 3) :\n",
    "    print(n, \"is not a prime number\")\n",
    "else :\n",
    "     print(n, \"is a prime number\")"
   ]
  },
  {
   "cell_type": "code",
   "execution_count": 3,
   "metadata": {},
   "outputs": [
    {
     "name": "stdout",
     "output_type": "stream",
     "text": [
      "Enter a number to check if it is a prime number.10\n",
      "10 is not a prime number\n"
     ]
    }
   ],
   "source": [
    "n = int(input(\"Enter a number to check if it is a prime number.\"))\n",
    "count = 0 \n",
    "for i in range(1,n+1) :\n",
    "    if  not n % i :\n",
    "        count += 1\n",
    "if (n == 0) or (n == 1) or (count >= 3) :\n",
    "    print(n, \"is not a prime number\")\n",
    "else :\n",
    "     print(n, \"is a prime number\")"
   ]
  }
 ],
 "metadata": {
  "kernelspec": {
   "display_name": "Python 3",
   "language": "python",
   "name": "python3"
  },
  "language_info": {
   "codemirror_mode": {
    "name": "ipython",
    "version": 3
   },
   "file_extension": ".py",
   "mimetype": "text/x-python",
   "name": "python",
   "nbconvert_exporter": "python",
   "pygments_lexer": "ipython3",
   "version": "3.8.5"
  }
 },
 "nbformat": 4,
 "nbformat_minor": 4
}
